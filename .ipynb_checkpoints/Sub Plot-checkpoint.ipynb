{
 "cells": [
  {
   "cell_type": "markdown",
   "id": "3599886e",
   "metadata": {},
   "source": [
    "# Sub Plot"
   ]
  },
  {
   "cell_type": "code",
   "execution_count": 10,
   "id": "66ffafaf",
   "metadata": {},
   "outputs": [
    {
     "data": {
      "image/png": "[encoded data removed]",
      "text/plain": [
       "<Figure size 432x288 with 4 Axes>"
      ]
     },
     "metadata": {
      "needs_background": "light"
     },
     "output_type": "display_data"
    }
   ],
   "source": [
    "import matplotlib.pyplot as plt\n",
    "\n",
    "x=[1,2,3,4]\n",
    "y=[1,2,3,4]\n",
    "plt.subplot(2,2,1)\n",
    "plt.plot(x, y, color=\"r\")\n",
    "\n",
    "plt.subplot(2,2,2)\n",
    "plt.pie([1])\n",
    "\n",
    "x1=[10,20,30,40]\n",
    "plt.subplot(2,2,3)\n",
    "\n",
    "plt.pie(x)\n",
    "\n",
    "x2=[\"a\", \"s\", \"d\", \"f\"]\n",
    "y2=[10,20,30,40]\n",
    "plt.subplot(2,2,4)\n",
    "plt.bar(x2, y2)\n",
    "\n",
    "plt.show()"
   ]
  },
  {
   "cell_type": "code",
   "execution_count": null,
   "id": "3bd2388e",
   "metadata": {},
   "outputs": [],
   "source": []
  }
 ],
 "metadata": {
  "kernelspec": {
   "display_name": "Python 3 (ipykernel)",
   "language": "python",
   "name": "python3"
  },
  "language_info": {
   "codemirror_mode": {
    "name": "ipython",
    "version": 3
   },
   "file_extension": ".py",
   "mimetype": "text/x-python",
   "name": "python",
   "nbconvert_exporter": "python",
   "pygments_lexer": "ipython3",
   "version": "3.10.6"
  },
  "varInspector": {
   "cols": {
    "lenName": 16,
    "lenType": 16,
    "lenVar": 40
   },
   "kernels_config": {
    "python": {
     "delete_cmd_postfix": "",
     "delete_cmd_prefix": "del ",
     "library": "var_list.py",
     "varRefreshCmd": "print(var_dic_list())"
    },
    "r": {
     "delete_cmd_postfix": ") ",
     "delete_cmd_prefix": "rm(",
     "library": "var_list.r",
     "varRefreshCmd": "cat(var_dic_list()) "
    }
   },
   "types_to_exclude": [
    "module",
    "function",
    "builtin_function_or_method",
    "instance",
    "_Feature"
   ],
   "window_display": false
  }
 },
 "nbformat": 4,
 "nbformat_minor": 5
}
